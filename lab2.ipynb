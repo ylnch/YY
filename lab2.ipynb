{
 "metadata": {
  "name": "",
  "signature": "sha256:95db63a2f4381b9a729d972838a0cd0c1f0015d008f0a35616ccfb4be299beba"
 },
 "nbformat": 3,
 "nbformat_minor": 0,
 "worksheets": [
  {
   "cells": [
    {
     "cell_type": "code",
     "collapsed": false,
     "input": [
      "import numpy as np\n",
      "import matplotlib.pyplot as plt"
     ],
     "language": "python",
     "metadata": {},
     "outputs": [],
     "prompt_number": 1
    },
    {
     "cell_type": "heading",
     "level": 3,
     "metadata": {},
     "source": [
      "\u041d\u043e\u0440\u043c\u044b \u0432 \u043d\u0435\u043f\u0440\u0435\u0440\u044b\u0432\u043d\u043e\u043c \u0438 L2 \u043f\u0440\u043e\u0441\u0442\u0440\u0430\u043d\u0441\u0442\u0432\u0435"
     ]
    },
    {
     "cell_type": "code",
     "collapsed": false,
     "input": [
      "def continuous_norm(solution_one, solution_two):\n",
      "    error = solution_one - solution_two\n",
      "    return np.abs(error).max()\n",
      "\n",
      "def L2_norm(solution_one, solution_two, h):\n",
      "    error = solution_one - solution_two\n",
      "    return ((error ** 2).sum() * h) ** 0.5"
     ],
     "language": "python",
     "metadata": {},
     "outputs": [],
     "prompt_number": 63
    },
    {
     "cell_type": "heading",
     "level": 3,
     "metadata": {},
     "source": [
      "\u041c\u0435\u0442\u043e\u0434 \u0420\u0443\u043d\u0433\u0435-\u041a\u0443\u0442\u0442\u0430 4 \u043f\u043e\u0440\u044f\u0434\u043a\u0430 \u0442\u043e\u0447\u043d\u043e\u0441\u0442\u0438"
     ]
    },
    {
     "cell_type": "code",
     "collapsed": false,
     "input": [
      "\n",
      "def one_step_rk4(func, h, x_n, y_n):\n",
      "\n",
      "    k1 = func(x_n, y_n)\n",
      "    \n",
      "    k2 = func(x_n + h / 2.0, y_n + (h * k1) / 2.0)\n",
      "    \n",
      "    k3 = func(x_n + h / 2.0, y_n + (h * k2) / 2.0)\n",
      "    \n",
      "    k4 = func(x_n + h, y_n + h * k3)\n",
      "    \n",
      "    y_next = y_n + (h / 6.0) * (k1 + 2.0 * k2 + 2.0 * k3 + k4)\n",
      "    \n",
      "    return y_next\n",
      "\n",
      "def RK4(fucn, h, x0, y0, right_bound=1):\n",
      "    interval = np.arange(x0, x0 + right_bound, h)\n",
      "    solution = np.zeros(len(interval))\n",
      "    \n",
      "    for idx in range(len(interval)):\n",
      "        if idx == 0:\n",
      "            solution[idx] = y0\n",
      "        else:\n",
      "            x_prev = interval[idx - 1]\n",
      "            y_prev = solution[idx - 1]\n",
      "            solution[idx] = one_step_rk4(fucn, h, x_prev, y_prev)\n",
      "            \n",
      "    return interval, solution\n",
      "    "
     ],
     "language": "python",
     "metadata": {},
     "outputs": [],
     "prompt_number": 85
    },
    {
     "cell_type": "heading",
     "level": 3,
     "metadata": {},
     "source": [
      "\n",
      "\u041c\u0435\u0442\u043e\u0434 \u0410\u0434\u0430\u043c\u0441\u0430 4 \u043f\u043e\u0440\u044f\u0434\u043a\u0430 \u0442\u043e\u0447\u043d\u043e\u0441\u0442\u0438"
     ]
    },
    {
     "cell_type": "code",
     "collapsed": false,
     "input": [
      "def fill_initial_sol_with_rk(func, interval, solution, N, y0, h):\n",
      "    for idx in range(N):\n",
      "        if idx == 0:\n",
      "            solution[idx] = y0\n",
      "        else:\n",
      "            x_prev = interval[idx - 1]\n",
      "            y_prev = solution[idx - 1]\n",
      "            solution[idx] = one_step_rk4(func, h, x_prev, y_prev)\n",
      "\n",
      "            \n",
      "def one_step_adam4(func, interval, solution, index):\n",
      "    x_n = interval[index] \n",
      "    x_n1 = interval[index - 1] \n",
      "    x_n2 = interval[index - 2] \n",
      "    x_n3 = interval[index - 3] \n",
      "    \n",
      "    h_n = interval[index + 1] - x_n\n",
      "    h_n1 = x_n - x_n1\n",
      "    h_n2 = x_n1 - x_n2\n",
      "    h_n3 = x_n2 - x_n3\n",
      "    \n",
      "    y_n = solution[index]\n",
      "    y_n1 = solution[index - 1]\n",
      "    y_n2 = solution[index - 2]\n",
      "    y_n3 = solution[index - 3]\n",
      "    \n",
      "    F_n = func(x_n, y_n)\n",
      "    F_n1 = func(x_n1, y_n1)\n",
      "    F_n2 = func(x_n2, y_n2)\n",
      "    F_n3 = func(x_n3, y_n3)\n",
      "    \n",
      "\n",
      "    F_n_n1 = (F_n - F_n1) / (x_n - x_n1)\n",
      "    F_n1_n2 = (F_n1 - F_n2) / (x_n1 - x_n2)\n",
      "    F_n2_n3 = (F_n2 - F_n3) / (x_n2 - x_n3)\n",
      "    \n",
      "    \n",
      "    F_n_n1_n2 = (F_n_n1 - F_n1_n2) / (x_n - x_n2)\n",
      "    F_n1_n2_n3 = (F_n1_n2 - F_n2_n3) / (x_n1 - x_n3)\n",
      "    \n",
      "    F_n_n1_n2_n3 = (F_n_n1_n2 - F_n1_n2_n3) / (x_n - x_n1)\n",
      "    \n",
      "    first = h_n * F_n\n",
      "    second = (0.5) * (h_n ** 2) * F_n_n1\n",
      "    third = (1.0/ 6.0) * (h_n ** 2) * (2 * h_n + 3 * h_n1) * F_n_n1_n2\n",
      "    fourth = (1.0 / 12.0) * (h_n ** 2) * (3.0 * h_n ** 2 + 8.0 * h_n * h_n1 + 4 * h_n1 * h_n2 + 6 * h_n1 ** 2 + 6.0 * h_n1 * h_n2) * F_n_n1_n2_n3\n",
      "    \n",
      "    result = y_n + first +  second + third +  fourth\n",
      "    return result \n",
      "\n",
      "def ADAM4(func, h, x0, y0, right_bound=1):\n",
      "    \n",
      "    # this is define the order of method\n",
      "    N = 4\n",
      "    interval = np.arange(x0, x0 + right_bound, h)\n",
      "    solution = np.zeros(len(interval))\n",
      "    \n",
      "    fill_initial_sol_with_rk(func, interval, solution, N, y0, h)\n",
      "            \n",
      "    for idx in range(N - 1, len(solution) - 1):\n",
      "        solution[idx + 1] = one_step_adam4(func, interval, solution, idx)\n",
      "    return interval, solution\n",
      "    "
     ],
     "language": "python",
     "metadata": {},
     "outputs": [],
     "prompt_number": 92
    },
    {
     "cell_type": "heading",
     "level": 3,
     "metadata": {},
     "source": [
      "\u0423\u0441\u043b\u043e\u0432\u0438\u0435 \u0438 \u0430\u043d\u0430\u043b\u0438\u0442\u0438\u0447\u0435\u0441\u043a\u043e\u0435 \u0440\u0435\u0448\u0435\u043d\u0438\u0435"
     ]
    },
    {
     "cell_type": "code",
     "collapsed": false,
     "input": [
      "def right_function(x, y):\n",
      "    return y / (x + 2.0) + x ** 2 + 2.0 * x\n",
      "\n",
      "def analitic_solution(x):\n",
      "    return (x ** 3) / 2 + x ** 2 + x + 2\n"
     ],
     "language": "python",
     "metadata": {},
     "outputs": [],
     "prompt_number": 87
    },
    {
     "cell_type": "heading",
     "level": 3,
     "metadata": {},
     "source": [
      "\u041f\u0440\u0438\u043c\u0435\u0440 \u0440\u0435\u0448\u0435\u043d\u0438\u044f"
     ]
    },
    {
     "cell_type": "code",
     "collapsed": false,
     "input": [
      "interRK4, solRK4 = RK4(right_function, 0.001, -1, 1.5)\n",
      "interADAM4, solADAM4 = ADAM4(right_function, 0.001, -1, 1.5)"
     ],
     "language": "python",
     "metadata": {},
     "outputs": [],
     "prompt_number": 90
    },
    {
     "cell_type": "heading",
     "level": 3,
     "metadata": {},
     "source": [
      "\u0413\u0440\u0430\u0444\u0438\u043a \u0440\u0435\u0448\u0435\u043d\u0438\u0439"
     ]
    },
    {
     "cell_type": "code",
     "collapsed": false,
     "input": [
      "plt.plot(interRK4, solRK4, 'b', interADAM4, solADAM4, 'g' , interRK4, analitic_solution(interRK4), 'r')"
     ],
     "language": "python",
     "metadata": {},
     "outputs": [
      {
       "metadata": {},
       "output_type": "pyout",
       "prompt_number": 97,
       "text": [
        "[<matplotlib.lines.Line2D at 0x7fef5d49d050>,\n",
        " <matplotlib.lines.Line2D at 0x7fef5d49d2d0>,\n",
        " <matplotlib.lines.Line2D at 0x7fef5d49d990>]"
       ]
      },
      {
       "metadata": {},
       "output_type": "display_data",
       "png": "[encoded data removed]",
       "text": [
        "<matplotlib.figure.Figure at 0x7fef5d5897d0>"
       ]
      }
     ],
     "prompt_number": 97
    },
    {
     "cell_type": "heading",
     "level": 3,
     "metadata": {},
     "source": [
      "\u0413\u0440\u0430\u0444\u0438\u043a \u043e\u0448\u0438\u0431\u043a\u0438"
     ]
    },
    {
     "cell_type": "code",
     "collapsed": false,
     "input": [
      "plt.plot(interRK4, (solRK4 - analitic_solution(interRK4)), 'b', interADAM4, (solADAM4 - analitic_solution(interRK4)), 'g')"
     ],
     "language": "python",
     "metadata": {},
     "outputs": [
      {
       "metadata": {},
       "output_type": "pyout",
       "prompt_number": 98,
       "text": [
        "[<matplotlib.lines.Line2D at 0x7fef5d3d37d0>,\n",
        " <matplotlib.lines.Line2D at 0x7fef5d3d3a50>]"
       ]
      },
      {
       "metadata": {},
       "output_type": "display_data",
       "png": "[encoded data removed]",
       "text": [
        "<matplotlib.figure.Figure at 0x7fef5d4d4310>"
       ]
      }
     ],
     "prompt_number": 98
    },
    {
     "cell_type": "heading",
     "level": 3,
     "metadata": {},
     "source": [
      "\u0417\u0430\u0432\u0438\u0441\u0438\u043c\u043e\u0441\u0442\u044c \u043e\u0448\u0438\u0431\u043a\u0438 \u043e\u0442 h 1) \u0420\u0443\u043d\u0433\u0435 - \u041a\u0443\u0442\u0442\u0430 2) \u0410\u0434\u0430\u043c"
     ]
    },
    {
     "cell_type": "code",
     "collapsed": false,
     "input": [
      "hs = np.arange(0.0001, 0.01, 0.0001)\n",
      "error_rk_c = np.zeros(len(hs))\n",
      "error_rk_l2 = np.zeros(len(hs))\n",
      "error_adam_c = np.zeros(len(hs))\n",
      "error_adam_l2 = np.zeros(len(hs))"
     ],
     "language": "python",
     "metadata": {},
     "outputs": [],
     "prompt_number": 101
    },
    {
     "cell_type": "code",
     "collapsed": false,
     "input": [
      "for index, h_current in enumerate(hs):\n",
      "    \n",
      "    interRK4, solRK4 = RK4(right_function, h_current, -1, 1.5)\n",
      "    interADAM4, solADAM4 = ADAM4(right_function, h_current, -1, 1.5)\n",
      "    \n",
      "    right_sol = analitic_solution(interRK4)\n",
      "    error_rk_c[index] = continuous_norm(solRK4, right_sol)\n",
      "    error_rk_l2[index] = L2_norm(solRK4, right_sol, h_current)\n",
      "    error_adam_c[index] = continuous_norm(solADAM4, right_sol)\n",
      "    error_adam_l2[index] = L2_norm(solRK4, right_sol, h_current)"
     ],
     "language": "python",
     "metadata": {},
     "outputs": [],
     "prompt_number": 104
    },
    {
     "cell_type": "heading",
     "level": 3,
     "metadata": {},
     "source": [
      "1) \u0420\u0443\u043d\u0433\u0435 - \u041a\u0443\u0442\u0442\u0430 \u043f\u0440\u043e\u0441\u0442\u0440\u0430\u043d\u0441\u0442\u0432\u043e C[a, b]"
     ]
    },
    {
     "cell_type": "code",
     "collapsed": false,
     "input": [
      "plt.plot(hs, error_rk_c)"
     ],
     "language": "python",
     "metadata": {},
     "outputs": [
      {
       "metadata": {},
       "output_type": "pyout",
       "prompt_number": 105,
       "text": [
        "[<matplotlib.lines.Line2D at 0x7fef5d2d6910>]"
       ]
      },
      {
       "metadata": {},
       "output_type": "display_data",
       "png": "[encoded data removed]",
       "text": [
        "<matplotlib.figure.Figure at 0x7fef5d3e9350>"
       ]
      }
     ],
     "prompt_number": 105
    },
    {
     "cell_type": "heading",
     "level": 3,
     "metadata": {},
     "source": [
      "1) \u0420\u0443\u043d\u0433\u0435 - \u041a\u0443\u0442\u0442\u0430 \u043f\u0440\u043e\u0441\u0442\u0440\u0430\u043d\u0441\u0442\u0432\u043e L2[a, b]"
     ]
    },
    {
     "cell_type": "code",
     "collapsed": false,
     "input": [
      "plt.plot(hs, error_rk_l2)"
     ],
     "language": "python",
     "metadata": {},
     "outputs": [
      {
       "metadata": {},
       "output_type": "pyout",
       "prompt_number": 106,
       "text": [
        "[<matplotlib.lines.Line2D at 0x7fef5d1f6810>]"
       ]
      },
      {
       "metadata": {},
       "output_type": "display_data",
       "png": "[encoded data removed]",
       "text": [
        "<matplotlib.figure.Figure at 0x7fef5d2e9d50>"
       ]
      }
     ],
     "prompt_number": 106
    },
    {
     "cell_type": "heading",
     "level": 3,
     "metadata": {},
     "source": [
      " 2) \u0410\u0434\u0430\u043c C[a, b]"
     ]
    },
    {
     "cell_type": "code",
     "collapsed": false,
     "input": [
      "plt.plot(hs, error_adam_c)"
     ],
     "language": "python",
     "metadata": {},
     "outputs": [
      {
       "metadata": {},
       "output_type": "pyout",
       "prompt_number": 107,
       "text": [
        "[<matplotlib.lines.Line2D at 0x7fef5d19dd90>]"
       ]
      },
      {
       "metadata": {},
       "output_type": "display_data",
       "png": "[encoded data removed]",
       "text": [
        "<matplotlib.figure.Figure at 0x7fef5d2aeb50>"
       ]
      }
     ],
     "prompt_number": 107
    },
    {
     "cell_type": "heading",
     "level": 3,
     "metadata": {},
     "source": [
      " 2) \u0410\u0434\u0430\u043c L2[a, b]"
     ]
    },
    {
     "cell_type": "code",
     "collapsed": false,
     "input": [
      "plt.plot(hs, error_adam_l2)"
     ],
     "language": "python",
     "metadata": {},
     "outputs": [
      {
       "metadata": {},
       "output_type": "pyout",
       "prompt_number": 108,
       "text": [
        "[<matplotlib.lines.Line2D at 0x7fef5d0c7bd0>]"
       ]
      },
      {
       "metadata": {},
       "output_type": "display_data",
       "png": "[encoded data removed]",
       "text": [
        "<matplotlib.figure.Figure at 0x7fef5d1d6fd0>"
       ]
      }
     ],
     "prompt_number": 108
    },
    {
     "cell_type": "code",
     "collapsed": false,
     "input": [],
     "language": "python",
     "metadata": {},
     "outputs": []
    }
   ],
   "metadata": {}
  }
 ]
}