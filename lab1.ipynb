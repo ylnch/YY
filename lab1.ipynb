{
 "cells": [
  {
   "cell_type": "code",
   "execution_count": 1,
   "metadata": {
    "collapsed": true
   },
   "outputs": [],
   "source": [
    "import math\n",
    "import numpy as np"
   ]
  },
  {
   "cell_type": "code",
   "execution_count": 62,
   "metadata": {
    "collapsed": false
   },
   "outputs": [],
   "source": [
    "def max_not_diagonal(matrix):\n",
    "    a = np.array(matrix)\n",
    "    i,j = np.indices(a.shape)\n",
    "    a[i >= j] = 0\n",
    "    index = np.unravel_index(np.abs(a).argmax(), a.shape)\n",
    "    return index, a[index]\n",
    "\n",
    "def build_rotate_matrix(a_k, index, eps=1e-6):\n",
    "    i, j = index\n",
    "    U = np.zeros(a_k.shape)\n",
    "    if abs(a_k[i, i] - a_k[j, j]) < eps:\n",
    "        print(\"FUCK\" * 10)\n",
    "        phi = math.phi / 4.0\n",
    "    else:\n",
    "        phi = 0.5 * math.atan(2.0 * a_k[i, j] / (a_k[i, i] - a_k[j, j]))\n",
    "    U[i, j] = - math.sin(phi)\n",
    "    U[j, i] = math.sin(phi)\n",
    "    U[i, i] = math.cos(phi)\n",
    "    U[j, j] = math.cos(phi)\n",
    "    for m in range(len(U)):\n",
    "        if m != i and m != j:\n",
    "            U[m, m] = 1\n",
    "    return U\n",
    "    \n",
    "def calc_stop(matrix):\n",
    "    i,j = np.indices(matrix.shape)\n",
    "    return (matrix[i < j] ** 2).sum() ** 0.5\n",
    "\n",
    "def sum_not_diagonal(matrix):\n",
    "    i,j = np.indices(matrix.shape)\n",
    "    return 2 * (matrix[i < j] ** 2).sum()\n",
    "    \n",
    "def sum_diagonal(matrix):\n",
    "    return (matrix.diagonal() ** 2).sum()\n",
    "    \n",
    "def find_accuracy(inp_matrix, eig_vals, eig_vectors):\n",
    "    for eig_val, eig_vec in zip(eig_vals, eig_vectors):\n",
    "        print(\"For eig_val = {} and eig_vec = {}\".format(eig_val, eig_vec))\n",
    "        x = inp_matrix.dot(eig_vec) - eig_val * eig_vec\n",
    "        print(\"Error vector = {} norm = {}\".format(x, np.linalg.norm(x)))\n",
    "        print(\"=\" * 10)\n",
    "        \n",
    "    \n",
    "def Jacobi(input_matrix, eps=1e-5, max_iteration=100, printed=True):\n",
    "    for number_iteration in range(max_iteration):\n",
    "        \n",
    "        if number_iteration == 0:    \n",
    "            Ak = np.array(input_matrix)\n",
    "        index, element = max_not_diagonal(Ak)\n",
    "        Uk = build_rotate_matrix(Ak, index)        \n",
    "        if number_iteration == 0:\n",
    "            U_lin_operator = np.array(Uk)\n",
    "        else:\n",
    "            U_lin_operator = U_lin_operator.dot(Uk)\n",
    "        Ak = np.dot(Uk.T, Ak).dot(Uk)\n",
    "        \n",
    "        criterion = calc_stop(Ak)\n",
    "        \n",
    "        if printed:\n",
    "            print(\"number of iteration = {}\".format(number_iteration))\n",
    "            print(\"max element = {} index = {}\".format(element, index))\n",
    "            print(\"diagonalized matrix = \")\n",
    "            print(Ak)\n",
    "            print(\"Sum all = {}\".format(sum_not_diagonal(Ak) + sum_diagonal(Ak)))\n",
    "            print(\"criterion = {}\".format(criterion))\n",
    "            print(\"=\" * 10)\n",
    "\n",
    "        if criterion < eps:\n",
    "            return Ak.diagonal(), U_lin_operator\n",
    "    else:\n",
    "        raise ValueError(\"Diverges\")\n",
    "        "
   ]
  },
  {
   "cell_type": "code",
   "execution_count": 63,
   "metadata": {
    "collapsed": false
   },
   "outputs": [
    {
     "name": "stdout",
     "output_type": "stream",
     "text": [
      "Eig val = 5.732043129214995 -> vec = [ 0.79295067  0.06809249 -0.47737164 -0.37243654]\n",
      "Eig val = 2.639119235865921 -> vec = [-0.17894648  0.77246331 -0.47994544  0.37540775]\n",
      "Eig val = 9.36267961900516 -> vec = [ 0.57322681  0.25109175  0.58970752  0.51049877]\n",
      "Eig val = 4.226158015913926 -> vec = [ 0.10304575 -0.57932443 -0.4404699   0.67804945]\n"
     ]
    }
   ],
   "source": [
    "input_matrix = np.array([[6.81, 1.04, 1.03, 1.165], \n",
    "                   [1.04, 3.61, 1.3, 0.16],\n",
    "                   [1.03, 1.3, 5.99, 2.1],\n",
    "                   [1.165, 0.16, 2.1, 5.55]])\n",
    "\n",
    "eig_val, eig_vec = Jacobi(input_matrix)\n",
    "\n",
    "for val, vec in zip(eig_val, eig_vec.T):\n",
    "    print(\"Eig val = {} -> vec = {}\".format(val, vec))"
   ]
  },
  {
   "cell_type": "code",
   "execution_count": 61,
   "metadata": {
    "collapsed": false
   },
   "outputs": [
    {
     "name": "stdout",
     "output_type": "stream",
     "text": [
      "For eig_val = 5.732043129214995 and eig_vec = [ 0.79295067  0.06809249 -0.47737164 -0.37243654]\n",
      "Error vector = [  1.45044938e-06   5.25298557e-07   1.39584860e-06   1.39504345e-06] norm = 2.5048515985287107e-06\n",
      "For eig_val = 2.639119235865921 and eig_vec = [-0.17894648  0.77246331 -0.47994544  0.37540775]\n",
      "Error vector = [  3.64818109e-06   1.59785494e-06   3.75292429e-06   3.24911711e-06] norm = 6.364241384840979e-06\n",
      "For eig_val = 9.36267961900516 and eig_vec = [ 0.57322681  0.25109175  0.58970752  0.51049877]\n",
      "Error vector = [  8.42443647e-07   5.08628188e-06  -4.24727088e-06   1.45859882e-06] norm = 6.837162798834651e-06\n",
      "For eig_val = 4.226158015913926 and eig_vec = [ 0.10304575 -0.57932443 -0.4404699   0.67804945]\n",
      "Error vector = [  1.39689118e-07   1.22042372e-08  -8.42513128e-08  -6.55325731e-08] norm = 1.7622370714798915e-07\n"
     ]
    }
   ],
   "source": [
    "find_accuracy(input_matrix, eig_val, eig_vec.T)"
   ]
  }
 ],
 "metadata": {
  "kernelspec": {
   "display_name": "Python 3",
   "language": "python",
   "name": "python3"
  },
  "language_info": {
   "codemirror_mode": {
    "name": "ipython",
    "version": 3
   },
   "file_extension": ".py",
   "mimetype": "text/x-python",
   "name": "python",
   "nbconvert_exporter": "python",
   "pygments_lexer": "ipython3",
   "version": "3.4.3"
  }
 },
 "nbformat": 4,
 "nbformat_minor": 0
}
